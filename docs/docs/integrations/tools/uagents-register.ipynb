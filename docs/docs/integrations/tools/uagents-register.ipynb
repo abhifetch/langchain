{
 "cells": [
  {
   "cell_type": "markdown",
   "metadata": {},
   "source": [
    "# LangChain + uAgents in Jupyter Notebook\n",
    "\n",
    "This notebook demonstrates running a uAgent directly in Jupyter. Note that local port access may be limited depending on your environment."
   ]
  },
  {
   "cell_type": "markdown",
   "metadata": {},
   "source": [
    "## Installation\n",
    "\n",
    "First, let's install the necessary packages."
   ]
  },
  {
   "cell_type": "code",
   "execution_count": null,
   "metadata": {},
   "outputs": [],
   "source": [
    "pip install langchain-openai langchain langchain-uagents nest-asyncio ipywidgets"
   ]
  },
  {
   "cell_type": "markdown",
   "metadata": {},
   "source": [
    "## Setting up Environment Variables\n",
    "\n",
    "To use this integration, you'll need API keys for Agentverse and OpenAI."
   ]
  },
  {
   "cell_type": "code",
   "execution_count": 10,
   "metadata": {},
   "outputs": [
    {
     "name": "stdout",
     "output_type": "stream",
     "text": [
      "API keys loaded successfully!\n"
     ]
    }
   ],
   "source": [
    "import os\n",
    "import time\n",
    "import asyncio\n",
    "import threading\n",
    "import nest_asyncio\n",
    "import getpass\n",
    "import logging\n",
    "from dotenv import load_dotenv\n",
    "from IPython.display import clear_output, display, HTML\n",
    "from langchain_openai import ChatOpenAI\n",
    "from langchain.agents import initialize_agent, AgentType, Tool\n",
    "from langchain_uagents import UAgentRegisterTool, cleanup_uagent\n",
    "\n",
    "# Set up logging\n",
    "logging.basicConfig(level=logging.INFO)\n",
    "\n",
    "# Apply nest_asyncio to allow nested event loops - CRITICAL FOR JUPYTER\n",
    "nest_asyncio.apply()\n",
    "\n",
    "# Load environment variables\n",
    "load_dotenv()\n",
    "\n",
    "# Set up API keys\n",
    "if not os.environ.get(\"AV_API_KEY\"):\n",
    "    os.environ[\"AV_API_KEY\"] = getpass.getpass(\"Agentverse API Key: \")\n",
    "    \n",
    "if not os.environ.get(\"OPENAI_API_KEY\"):\n",
    "    os.environ[\"OPENAI_API_KEY\"] = getpass.getpass(\"OpenAI API Key: \")\n",
    "    \n",
    "API_TOKEN = os.environ.get(\"AV_API_KEY\")\n",
    "OPENAI_API_KEY = os.environ.get(\"OPENAI_API_KEY\")\n",
    "\n",
    "print(\"API keys loaded successfully!\")"
   ]
  },
  {
   "cell_type": "markdown",
   "metadata": {},
   "source": [
    "## Agent Runner Class\n",
    "\n",
    "This helper class manages the agent lifecycle in Jupyter. Note that local port access may be limited in many environments.\n",
    "If you are running it using a .py script you don't have to do this step."
   ]
  },
  {
   "cell_type": "code",
   "execution_count": 13,
   "metadata": {},
   "outputs": [],
   "source": [
    "# Create an AgentRunner class with fixed event loop handling\n",
    "class AgentRunner:\n",
    "    def __init__(self):\n",
    "        self.running = False\n",
    "        self.agent_name = None\n",
    "        self.stop_event = threading.Event()\n",
    "        self.agent_info = None\n",
    "        self.thread = None\n",
    "    \n",
    "    async def _run_agent(self, agent_obj, name, port, description, api_token):\n",
    "        \"\"\"Async method to run the agent using the UAgentRegisterTool\"\"\"\n",
    "        self.agent_name = name\n",
    "        self.running = True\n",
    "        print(f\"Starting agent '{name}' on port {port}...\")\n",
    "        \n",
    "        # Create and register the agent\n",
    "        tool = UAgentRegisterTool()\n",
    "        try:\n",
    "            self.agent_info = tool.invoke({\n",
    "                \"agent_obj\": agent_obj,\n",
    "                \"name\": name,\n",
    "                \"port\": port,\n",
    "                \"description\": description,\n",
    "                \"api_token\": api_token\n",
    "            })\n",
    "            \n",
    "            agent_address = self.agent_info.get('address', 'unknown')\n",
    "            agent_port = self.agent_info.get('port', port)\n",
    "            \n",
    "            # Display info in formatted box\n",
    "            clear_output(wait=True)\n",
    "            display(HTML(f\"\"\"\n",
    "            <div style=\"padding: 10px; border: 2px solid #4CAF50; border-radius: 5px; margin: 10px 0;\">\n",
    "                <h3 style=\"color: #4CAF50;\">✅ Agent Successfully Created!</h3>\n",
    "                <p><b>Name:</b> {self.agent_info['name']}</p>\n",
    "                <p><b>Address:</b> {agent_address}</p>\n",
    "                <p><b>Port:</b> {agent_port}</p>\n",
    "                <p><b>Inspector URL:</b> <a href=\"https://agentverse.ai/agent/{agent_address}\" target=\"_blank\">https://agentverse.ai/agent/{agent_address}</a></p>\n",
    "                <p><b>Local Inspector:</b> <a href=\"https://agentverse.ai/inspect/?uri=http://127.0.0.1:{agent_port}&address={agent_address}\" target=\"_blank\">Open Local Inspector</a></p>\n",
    "                <p style=\"color:#f44336;\"><b>Note:</b> The Local Inspector likely won't work in Jupyter as local ports are not publicly accessible.<br>Use the Agentverse URL instead to interact with your agent.</p>\n",
    "                <p><b>Console Logs:</b></p>\n",
    "                <pre style=\"background-color: #f5f5f5; padding: 8px; border-radius: 4px; max-height: 200px; overflow-y: auto;\">\n",
    "Agent '{name}' running on port {agent_port}\n",
    "Address: {agent_address}\n",
    "Registration successful!                \n",
    "                </pre>\n",
    "                <p style=\"color:#666; font-style:italic;\">The agent is running in the background. Use stop_agent() to terminate it.</p>\n",
    "            </div>\n",
    "            \"\"\"))\n",
    "            \n",
    "            # Keep running until stopped\n",
    "            counter = 0\n",
    "            while self.running and not self.stop_event.is_set():\n",
    "                status = \"⏳ \" + \"●\" * (counter % 4) + \"○\" * (3 - (counter % 4))\n",
    "                print(f\"\\r{status} Agent running... (Run stop_agent() in a new cell to terminate)\", end=\"\")\n",
    "                counter += 1\n",
    "                await asyncio.sleep(1)\n",
    "        except Exception as e:\n",
    "            print(f\"Error creating agent: {str(e)}\")\n",
    "            self.running = False\n",
    "        finally:\n",
    "            # Clean up if stopped while running\n",
    "            if self.running:\n",
    "                self.running = False\n",
    "                try:\n",
    "                    cleanup_uagent(self.agent_name)\n",
    "                except Exception as e:\n",
    "                    print(f\"Error during cleanup: {str(e)}\")\n",
    "    \n",
    "    def start_agent(self, agent_obj, name, port, description, api_token):\n",
    "        \"\"\"Start the agent in the current event loop\"\"\"\n",
    "        if asyncio.get_event_loop().is_running():\n",
    "            # We're in Jupyter - nest_asyncio should allow this\n",
    "            asyncio.create_task(self._run_agent(agent_obj, name, port, description, api_token))\n",
    "        else:\n",
    "            # Not in a running loop, create and start one\n",
    "            asyncio.run(self._run_agent(agent_obj, name, port, description, api_token))\n",
    "    \n",
    "    def stop_agent(self):\n",
    "        \"\"\"Stop the agent and clean up resources\"\"\"\n",
    "        if self.running and self.agent_name:\n",
    "            print(f\"\\nStopping agent {self.agent_name}...\")\n",
    "            self.running = False\n",
    "            self.stop_event.set()\n",
    "            try:\n",
    "                cleanup_uagent(self.agent_name)\n",
    "                print(f\"Agent {self.agent_name} stopped.\")\n",
    "                clear_output(wait=True)\n",
    "                display(HTML(f\"\"\"\n",
    "                <div style=\"padding: 10px; border: 2px solid #FF5722; border-radius: 5px; margin: 10px 0;\">\n",
    "                    <h3 style=\"color: #FF5722;\">✓ Agent Terminated</h3>\n",
    "                    <p>The agent <b>{self.agent_name}</b> has been successfully stopped.</p>\n",
    "                </div>\n",
    "                \"\"\"))\n",
    "                return True\n",
    "            except Exception as e:\n",
    "                print(f\"Error stopping agent: {str(e)}\")\n",
    "                return False\n",
    "        return False\n",
    "\n",
    "# Create a global runner\n",
    "agent_runner = AgentRunner()\n",
    "\n",
    "# Function to display agent information\n",
    "def show_agent_info():\n",
    "    if agent_runner.agent_info:\n",
    "        agent_address = agent_runner.agent_info.get('address', 'unknown')\n",
    "        agent_port = agent_runner.agent_info.get('port', 'unknown')\n",
    "        \n",
    "        print(f\"Agent Name: {agent_runner.agent_name}\")\n",
    "        print(f\"Agent Address: {agent_address}\")\n",
    "        print(f\"Agent Port: {agent_port}\")\n",
    "        print(f\"Agentverse URL: https://agentverse.ai/agents/details/{agent_address}\")\n",
    "        print(f\"Local Inspector: https://agentverse.ai/inspect/?uri=http://127.0.0.1:{agent_port}&address={agent_address}\")\n",
    "        print(\"\\nNOTE: The Local Inspector typically won't work in Jupyter environments because\")\n",
    "        print(\"local ports are not publicly accessible. Use the Agentverse URL instead.\")\n",
    "    else:\n",
    "        print(\"No agent information available\")\n",
    "\n",
    "# Function to start the agent\n",
    "def run_agent(agent_obj, name=\"calculator_agent_jupyter\", port=8765, \n",
    "              description=\"Calculator agent for notebook\", api_token=None):\n",
    "    if api_token is None:\n",
    "        api_token = API_TOKEN\n",
    "        \n",
    "    # Stop any existing agent\n",
    "    if agent_runner.running:\n",
    "        agent_runner.stop_agent()\n",
    "    \n",
    "    # Start the agent in the current event loop\n",
    "    agent_runner.start_agent(agent_obj, name, port, description, api_token)\n",
    "    return agent_runner\n",
    "\n",
    "# Function to stop the agent\n",
    "def stop_agent():\n",
    "    return agent_runner.stop_agent()"
   ]
  },
  {
   "cell_type": "markdown",
   "metadata": {},
   "source": [
    "## Creating a Simple Calculator Agent\n",
    "\n",
    "Let's create a simple Langchain agent that can perform calculations."
   ]
  },
  {
   "cell_type": "code",
   "execution_count": 16,
   "metadata": {},
   "outputs": [
    {
     "name": "stderr",
     "output_type": "stream",
     "text": [
      "/var/folders/6w/50q5txxx1z57v4d3w9hkxby00000gp/T/ipykernel_81904/78101617.py:20: LangChainDeprecationWarning: LangChain agents will continue to be supported, but it is recommended for new use cases to be built with LangGraph. LangGraph offers a more flexible and full-featured framework for building agents, including support for tool-calling, persistence of state, and human-in-the-loop workflows. For details, refer to the `LangGraph documentation <https://langchain-ai.github.io/langgraph/>`_ as well as guides for `Migrating from AgentExecutor <https://python.langchain.com/docs/how_to/migrate_agent/>`_ and LangGraph's `Pre-built ReAct agent <https://langchain-ai.github.io/langgraph/how-tos/create-react-agent/>`_.\n",
      "  agent = initialize_agent(\n"
     ]
    }
   ],
   "source": [
    "# Define a simple calculator tool\n",
    "def calculator_tool(expression: str) -> str:\n",
    "    \"\"\"Evaluates a basic math expression (e.g., '2 + 2 * 3').\"\"\"\n",
    "    try:\n",
    "        result = eval(expression)\n",
    "        return str(result)\n",
    "    except Exception as e:\n",
    "        return f\"Error: {str(e)}\"\n",
    "\n",
    "# Create the Langchain tool and agent\n",
    "tools = [\n",
    "    Tool(\n",
    "        name=\"Calculator\",\n",
    "        func=calculator_tool,\n",
    "        description=\"Useful for evaluating math expressions\"\n",
    "    )\n",
    "]\n",
    "\n",
    "llm = ChatOpenAI(temperature=0, api_key=OPENAI_API_KEY)\n",
    "agent = initialize_agent(\n",
    "    tools=tools,\n",
    "    llm=llm,\n",
    "    agent=AgentType.ZERO_SHOT_REACT_DESCRIPTION,\n",
    "    verbose=True\n",
    ")"
   ]
  },
  {
   "cell_type": "markdown",
   "metadata": {},
   "source": [
    "## Test the Langchain Agent\n",
    "\n",
    "Let's test our Langchain agent to make sure it's working correctly."
   ]
  },
  {
   "cell_type": "code",
   "execution_count": 19,
   "metadata": {},
   "outputs": [
    {
     "name": "stdout",
     "output_type": "stream",
     "text": [
      "\n",
      "\n",
      "\u001b[1m> Entering new AgentExecutor chain...\u001b[0m\n"
     ]
    },
    {
     "name": "stderr",
     "output_type": "stream",
     "text": [
      "INFO:httpx:HTTP Request: POST https://api.openai.com/v1/chat/completions \"HTTP/1.1 200 OK\"\n"
     ]
    },
    {
     "name": "stdout",
     "output_type": "stream",
     "text": [
      "\u001b[32;1m\u001b[1;3mI should use the Calculator tool to evaluate this math expression.\n",
      "Action: Calculator\n",
      "Action Input: \"25 * 4 + 10\"\u001b[0m\n",
      "Observation: \u001b[36;1m\u001b[1;3m110\u001b[0m\n",
      "Thought:"
     ]
    },
    {
     "name": "stderr",
     "output_type": "stream",
     "text": [
      "INFO:httpx:HTTP Request: POST https://api.openai.com/v1/chat/completions \"HTTP/1.1 200 OK\"\n"
     ]
    },
    {
     "name": "stdout",
     "output_type": "stream",
     "text": [
      "\u001b[32;1m\u001b[1;3mI now know the final answer\n",
      "Final Answer: 110\u001b[0m\n",
      "\n",
      "\u001b[1m> Finished chain.\u001b[0m\n"
     ]
    },
    {
     "data": {
      "text/plain": [
       "{'input': 'What is 25 * 4 + 10?', 'output': '110'}"
      ]
     },
     "execution_count": 19,
     "metadata": {},
     "output_type": "execute_result"
    }
   ],
   "source": [
    "# Test our Langchain agent locally\n",
    "agent.invoke(\"What is 25 * 4 + 10?\")"
   ]
  },
  {
   "cell_type": "markdown",
   "metadata": {},
   "source": [
    "## Converting to a uAgent and Registering on Agentverse\n",
    "\n",
    "Now let's convert our Langchain agent to a uAgent and register it on Agentverse."
   ]
  },
  {
   "cell_type": "code",
   "execution_count": 22,
   "metadata": {},
   "outputs": [
    {
     "data": {
      "text/plain": [
       "<__main__.AgentRunner at 0x127cf5250>"
      ]
     },
     "execution_count": 22,
     "metadata": {},
     "output_type": "execute_result"
    },
    {
     "name": "stdout",
     "output_type": "stream",
     "text": [
      "Starting agent 'calculator_agent_notebook' on port 8765...\n",
      "Preferred port 8765 is in use, searching for alternative...\n",
      "Port 8765 is already in use. Using alternative port 8000 instead.\n",
      "Warning: No AI agent address provided. Message forwarding will be disabled.\n",
      "INFO:     [calculator_agent_notebook]: Starting agent with address: agent1qfmjl36cyt8uzjyvqktjy08rnfc7gscmvwr8sxjf8chkg8s0l6adwu6yp23\n",
      "INFO:     [calculator_agent_notebook]: Agent inspector available at https://agentverse.ai/inspect/?uri=http%3A//127.0.0.1%3A8000&address=agent1qfmjl36cyt8uzjyvqktjy08rnfc7gscmvwr8sxjf8chkg8s0l6adwu6yp23\n",
      "INFO:     [calculator_agent_notebook]: Starting server on http://0.0.0.0:8000 (Press CTRL+C to quit)\n",
      "INFO:     [calculator_agent_notebook]: Starting mailbox client for https://agentverse.ai\n"
     ]
    }
   ],
   "source": [
    "# Start the agent as a uAgent\n",
    "run_agent(\n",
    "    agent_obj=agent,\n",
    "    name=\"calculator_agent_notebook\",\n",
    "    port=8765,  # If this port is in use, try a different one like 8000\n",
    "    description=\"A calculator agent for testing in a notebook\",\n",
    "    api_token=API_TOKEN\n",
    ")"
   ]
  },
  {
   "cell_type": "markdown",
   "metadata": {},
   "source": [
    "## Viewing Agent Information\n",
    "\n",
    "You can check your agent information at any time."
   ]
  },
  {
   "cell_type": "code",
   "execution_count": 31,
   "metadata": {},
   "outputs": [
    {
     "name": "stdout",
     "output_type": "stream",
     "text": [
      "Agent Name: calculator_agent_notebook\n",
      "Agent Address: agent1qfmjl36cyt8uzjyvqktjy08rnfc7gscmvwr8sxjf8chkg8s0l6adwu6yp23\n",
      "Agent Port: 8000\n",
      "Agentverse URL: https://agentverse.ai/agents/details/agent1qfmjl36cyt8uzjyvqktjy08rnfc7gscmvwr8sxjf8chkg8s0l6adwu6yp23\n",
      "Local Inspector: https://agentverse.ai/inspect/?uri=http://127.0.0.1:8000&address=agent1qfmjl36cyt8uzjyvqktjy08rnfc7gscmvwr8sxjf8chkg8s0l6adwu6yp23\n",
      "\n",
      "NOTE: The Local Inspector typically won't work in Jupyter environments because\n",
      "local ports are not publicly accessible. Use the Agentverse URL instead.\n"
     ]
    }
   ],
   "source": [
    "# Show agent info anytime needed\n",
    "show_agent_info()"
   ]
  },
  {
   "cell_type": "markdown",
   "metadata": {},
   "source": [
    "## Cleaning Up\n",
    "\n",
    "When you're done, remember to stop your agent."
   ]
  },
  {
   "cell_type": "code",
   "execution_count": 28,
   "metadata": {},
   "outputs": [
    {
     "data": {
      "text/html": [
       "\n",
       "                <div style=\"padding: 10px; border: 2px solid #FF5722; border-radius: 5px; margin: 10px 0;\">\n",
       "                    <h3 style=\"color: #FF5722;\">✓ Agent Terminated</h3>\n",
       "                    <p>The agent <b>calculator_agent_notebook</b> has been successfully stopped.</p>\n",
       "                </div>\n",
       "                "
      ],
      "text/plain": [
       "<IPython.core.display.HTML object>"
      ]
     },
     "metadata": {},
     "output_type": "display_data"
    },
    {
     "data": {
      "text/plain": [
       "True"
      ]
     },
     "execution_count": 28,
     "metadata": {},
     "output_type": "execute_result"
    }
   ],
   "source": [
    "# Stop the agent when you're done\n",
    "stop_agent()"
   ]
  },
  {
   "cell_type": "markdown",
   "metadata": {},
   "source": [
    "## Important Notes About Local Access\n",
    "\n",
    "- The \"Could not find this Agent on your local host\" error occurs because Jupyter environments don't typically expose local ports to the browser\n",
    "- Your agent is still running and properly registered with Agentverse\n",
    "- The best way to interact with your agent is through the Agentverse web interface\n",
    "- For full local access, consider running your notebook on a local Jupyter installation rather than JupyterLab or cloud environments"
   ]
  },
  {
   "cell_type": "code",
   "execution_count": null,
   "metadata": {},
   "outputs": [],
   "source": []
  }
 ],
 "metadata": {
  "kernelspec": {
   "display_name": "Python [conda env:base] *",
   "language": "python",
   "name": "conda-base-py"
  },
  "language_info": {
   "codemirror_mode": {
    "name": "ipython",
    "version": 3
   },
   "file_extension": ".py",
   "mimetype": "text/x-python",
   "name": "python",
   "nbconvert_exporter": "python",
   "pygments_lexer": "ipython3",
   "version": "3.12.7"
  }
 },
 "nbformat": 4,
 "nbformat_minor": 4
}
